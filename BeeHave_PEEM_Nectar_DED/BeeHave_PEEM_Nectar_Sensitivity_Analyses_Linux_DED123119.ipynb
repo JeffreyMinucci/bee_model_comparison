{
 "cells": [
  {
   "cell_type": "code",
   "execution_count": 84,
   "metadata": {},
   "outputs": [],
   "source": [
    "import os\n",
    "import pyNetLogo\n",
    "import matplotlib.pyplot as plt\n",
    "import pandas as pd\n",
    "#DED Note: Need to determine a distribution for mid-year population distribution \n",
    "\n",
    "import os\n",
    "netlogo_home = \"/netlogo-5.3.1-64\"\n",
    "netlogo_version = \"5\"\n",
    "#os.chdir(\"C:\\\\Users\\\\DDawso01\\\\OneDrive - Environmental Protection Agency (EPA)\\\\Profile\\\\Documents\\\\Bee Project\\\\Beehave_PEEM_Nectar\")\n",
    "os.chdir(\"/home/ddawso01/Documents/BeeProject/BeeHave_PEEM_Nectar_DED\")\n",
    "#netlogo_home = \"/netlogo-5.3.1-64\"\n",
    "#netlogo_version = \"5\"\n",
    "Suff=\"DED_123119\"\n",
    "params=3\n",
    "\n",
    "probparams = {\n",
    "'num_vars': 3,\n",
    "'names': [\n",
    "'NectarPesticideInput',\n",
    "'NectarSugarConcentrationInput',\n",
    "'NectarVolumeInput'\n",
    "],\n",
    "'bounds': [\n",
    "[0, 1000],\n",
    "[0, 2.0],\n",
    "[0, 10000.0],\n",
    "]\n",
    "}\n",
    "\n",
    "from SALib.sample import saltelli\n",
    "from SALib.analyze import sobol\n",
    "n=1000\n",
    "param_values=saltelli.sample(probparams, n, calc_second_order=True)\n"
   ]
  },
  {
   "cell_type": "code",
   "execution_count": 85,
   "metadata": {},
   "outputs": [],
   "source": [
    "#Specification of Constants and/or variable things not of interest, including weather, food, start day, random-seed and runlength\n",
    "import numpy as np\n",
    "#Note: files are looked for in the directory of the jupyter notebook instead of the directory specified below via chdir. Thats peculiar; hopefully it won't be a problem when it is converted to a .py file \n",
    "#For some reason, having trouble specifying text files directly, will have to deal with later \n",
    "#weathervec=np.repeat(\"\\\"Weather_WI_08_2016_input.txt\\\"\",  param_values.shape[0])\n",
    "#foodinputvec=np.repeat(\"\\\"EnvFile_1flowerpatch_fromPython.txt\\\"\",  param_values.shape[0])\n",
    "startday=np.repeat(0, param_values.shape[0])\n",
    "runlength=np.repeat(365, param_values.shape[0])\n",
    "randomseed = np.random.uniform(0,10000,param_values.shape[0])\n",
    "paramindex = list(range(1,(param_values.shape[0]+1))) #Have to put list around range to produce the range of numbers; don't need list inside a loop becuase its an iterator\n",
    "#param_values=np.column_stack((param_values, foodinputvec, startday,runlength))\n",
    "#param_values=np.column_stack((param_values, weathervec, foodinputvec, startday,runlength))\n",
    "param_values=np.column_stack((param_values, startday,runlength, randomseed, paramindex))\n",
    "\n",
    "#Note: np.vstack can be used similarly to add a row"
   ]
  },
  {
   "cell_type": "code",
   "execution_count": 86,
   "metadata": {},
   "outputs": [],
   "source": [
    "#Creating Final Problem Set with Input File constants\n",
    "#problem = {\n",
    "#'num_vars': 7,\n",
    "#'names': [\n",
    "#'NectarPesticideInput',\n",
    "#'NectarSugarConcentrationInput',\n",
    "#'NectarVolumeInput', 'Input_File', 'WeatherFile', 'StartDay', 'X_Days'\n",
    "#]}\n",
    "problem = {\n",
    "'num_vars': 7,\n",
    "'names': [\n",
    "'NectarPesticideInput',\n",
    "'NectarSugarConcentrationInput',\n",
    "'NectarVolumeInput','StartDay', 'X_Days', 'random-seed', 'paramindex'\n",
    "]}\n",
    "\n",
    "\n",
    "\n"
   ]
  },
  {
   "cell_type": "code",
   "execution_count": 87,
   "metadata": {},
   "outputs": [],
   "source": [
    "pv=pd.DataFrame(param_values)\n",
    "pv.columns=['NectarPesticideInput','NectarSugarConcentrationInput','NectarVolumeInput', \n",
    "            'StartDay', 'X_Days', 'random_seed', 'paramindex']\n",
    "\n",
    "SenParamLabel=\"SobalSA_paramsets\" + str(params) + \"_params_\" + str(n) + \"reps_\" + str((2^3) * n) + \"pmts_\" +  Suff + \".csv\"\n",
    "\n",
    "#Check distributions\n",
    "#plt.subplot(3,1,1)\n",
    "#pv.iloc[:,1].plot(kind=\"hist\", title=\"NectarPesticideInput\")\n",
    "#plt.subplot(3,1,2)\n",
    "#pv.iloc[:,2].plot(kind=\"hist\", title=\"NectarSugarConcentrationInput\")\n",
    "#plt.subplot(3,1,3)\n",
    "#pv.iloc[:,3].plot(kind=\"hist\", title=\"NectarVolumeInput\")\n",
    "pv.to_csv(SenParamLabel)\n"
   ]
  },
  {
   "cell_type": "code",
   "execution_count": 88,
   "metadata": {},
   "outputs": [
    {
     "data": {
      "text/plain": [
       "(8000, 7)"
      ]
     },
     "execution_count": 88,
     "metadata": {},
     "output_type": "execute_result"
    }
   ],
   "source": [
    "pv.shape"
   ]
  },
  {
   "cell_type": "code",
   "execution_count": 89,
   "metadata": {},
   "outputs": [],
   "source": [
    "def simulation(experiment):\n",
    "\n",
    "    #Set the input parameters\n",
    "    for i, name in enumerate(problem['names']):\n",
    "        if name == 'random-seed':\n",
    "            #The NetLogo random seed requires a different syntax\n",
    "            netlogo.command('random-seed {}'.format(experiment[i]))\n",
    "        \n",
    "        elif name == 'paramindex':\n",
    "            pass\n",
    "        \n",
    "        else:\n",
    "            #Otherwise, assume the input parameters are global variables\n",
    "            netlogo.command('set {0} {1}'.format(name, experiment[i]))\n",
    "\n",
    "    netlogo.command('setup')\n",
    "    \n",
    "    #Run for the specified number of ticks and return the values of the variables specified at each timestep\n",
    "    #Note that this outputs a dataframe, which is transferred into a list per output with parallel processing\n",
    "    counts = netlogo.repeat_report(['TotalEggs', 'TotalLarvae', 'TotalPupae', 'TotalIHBees', \n",
    "                                    'TotalForagers', 'AFF', 'NewWorkerEggs', 'HoneyEnergyStore', \n",
    "                                    'HoneyStorePesticideConc'], 365)\n",
    "\n",
    "\n",
    "    return counts\n",
    "    "
   ]
  },
  {
   "cell_type": "code",
   "execution_count": 90,
   "metadata": {},
   "outputs": [],
   "source": [
    "import ipyparallel\n",
    "\n",
    "client = ipyparallel.Client()"
   ]
  },
  {
   "cell_type": "code",
   "execution_count": 91,
   "metadata": {},
   "outputs": [],
   "source": [
    "direct_view = client[:]"
   ]
  },
  {
   "cell_type": "code",
   "execution_count": 92,
   "metadata": {},
   "outputs": [
    {
     "data": {
      "text/plain": [
       "<AsyncResult: _push>"
      ]
     },
     "execution_count": 92,
     "metadata": {},
     "output_type": "execute_result"
    }
   ],
   "source": [
    "import os\n",
    "cwd=os.getcwd()\n",
    "os.chdir(cwd)\n",
    "#Push the current working directory of the notebook to a \"cwd\" variable on the engines that can be accessed later\n",
    "direct_view.push(dict(cwd=os.getcwd()))\n",
    "direct_view.push(dict(problem=problem))"
   ]
  },
  {
   "cell_type": "code",
   "execution_count": 93,
   "metadata": {},
   "outputs": [],
   "source": [
    "%%px\n",
    "import os \n",
    "import pyNetLogo\n",
    "import pandas as pd\n",
    "netlogo_home = \"/home/ddawso01/Documents/BeeProject/netlogo-5.3.1-64\"\n",
    "netlogo_version = \"5\"\n",
    "netlogo=pyNetLogo.NetLogoLink(gui=False, netlogo_home=netlogo_home, netlogo_version=netlogo_version)\n",
    "netlogo.load_model(\"/home/ddawso01/Documents/BeeProject/BeeHave_PEEM_Nectar_DED/Beehave_PEEM_Nectar_DED121919.nlogo\")\n",
    "\n",
    "\n",
    "\n",
    "#Setup Netlogo\n",
    "#import os\n",
    "##os.chdir(cwd)\n",
    "#import pyNetLogo\n",
    "#import pandas as pd\n",
    "#netlogo_home = \"/home/ddawso01/Documents/BeeProject/netlogo-5.3.1-64\"\n",
    "#netlogo_version = \"5\"\n",
    "#netlogo = pyNetLogo.NetLogoLink(gui=False, netlogo_home=netlogo_home, netlogo_version=netlogo_version)\n",
    "#netlogo.load_model(\"/home/ddawso01/Documents/BeeProject/BEEHAVE-Model_2014-03-04/1_BEEHAVE-MODEL_Beehave2013.nlogo\")\n",
    "\n",
    "\n"
   ]
  },
  {
   "cell_type": "code",
   "execution_count": 94,
   "metadata": {},
   "outputs": [
    {
     "name": "stdout",
     "output_type": "stream",
     "text": [
      "CPU times: user 1min 18s, sys: 29.8 s, total: 1min 48s\n",
      "Wall time: 18min 1s\n"
     ]
    }
   ],
   "source": [
    "%%time\n",
    "lview = client.load_balanced_view()\n",
    "results = lview.map_sync(simulation, param_values)\n",
    "#Note, it took 2 min 11s(131 sec) for 800 simulations on 30 cores; thats 0.163 seconds per sim; \n",
    "#This took 18 min 1 s for 8000 simulations "
   ]
  },
  {
   "cell_type": "code",
   "execution_count": 95,
   "metadata": {},
   "outputs": [],
   "source": [
    "#Loop over elements of the list and create a large dataframe\n",
    "\n",
    "resultdf=results[0]\n",
    "resultdf['paramindex'] = np.repeat(1, resultdf.shape[0])\n",
    "for i in range(2, (len(results))):\n",
    "    resultdf1=results[i]\n",
    "    resultdf1['paramindex'] = np.repeat(i, resultdf1.shape[0])\n",
    "    resultdf=resultdf.append(resultdf1) # can be used similarly to add a row\n"
   ]
  },
  {
   "cell_type": "code",
   "execution_count": 96,
   "metadata": {},
   "outputs": [],
   "source": [
    "#SenResults=\"SobalSenResults_1year_3params_1000reps_8000_Parameterizations_\" + Suff + \".csv\"\n",
    "SenResults=\"SobalSA_Sims_\" + str(params) + \"params_\" + str(n) + \"reps_\" + str((2^3) * n) + \"pmts_\" +  Suff + \".csv\"\n",
    "\n",
    "resultdf.to_csv(SenResults)"
   ]
  },
  {
   "cell_type": "code",
   "execution_count": null,
   "metadata": {},
   "outputs": [],
   "source": []
  }
 ],
 "metadata": {
  "kernelspec": {
   "display_name": "Python 3",
   "language": "python",
   "name": "python3"
  },
  "language_info": {
   "codemirror_mode": {
    "name": "ipython",
    "version": 3
   },
   "file_extension": ".py",
   "mimetype": "text/x-python",
   "name": "python",
   "nbconvert_exporter": "python",
   "pygments_lexer": "ipython3",
   "version": "3.7.3"
  }
 },
 "nbformat": 4,
 "nbformat_minor": 2
}
