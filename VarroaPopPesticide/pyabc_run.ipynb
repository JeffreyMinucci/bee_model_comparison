{
 "cells": [
  {
   "cell_type": "code",
   "execution_count": 1,
   "metadata": {},
   "outputs": [],
   "source": [
    "from pyabc import (ABCSMC, Distribution, RV,\n",
    "                   MultivariateNormalTransition, AdaptivePNormDistance,\n",
    "                  PNormDistance, History, AdaptivePopulationSize)\n",
    "try:\n",
    "    from pyabc.visualization import kde_1d\n",
    "except:\n",
    "    from pyabc.visualization.kde import kde_1d  # location for newer versions of pyabc\n",
    "from pyabc.visualization import plot_kde_matrix\n",
    "from pyabc.sampler import DaskDistributedSampler, SingleCoreSampler\n",
    "from pyabc.transition import LocalTransition\n",
    "import pyabc.visualization\n",
    "import logging\n",
    "import scipy as sp\n",
    "import scipy.stats as st\n",
    "import tempfile\n",
    "import os\n",
    "import math\n",
    "import pandas as pd\n",
    "import matplotlib.pyplot as plt\n",
    "%matplotlib inline\n",
    "import numpy as np\n",
    "from dask.distributed import Client, LocalCluster\n",
    "import csv\n",
    "\n",
    "\n",
    "from tools.DataSimulator import simulate"
   ]
  },
  {
   "cell_type": "markdown",
   "metadata": {},
   "source": [
    "### Setting up the pyabc run"
   ]
  },
  {
   "cell_type": "code",
   "execution_count": 2,
   "metadata": {},
   "outputs": [],
   "source": [
    "# Initialize the dask cluster \n",
    "c = LocalCluster(n_workers=(90/2), threads_per_worker = 2)  # Set for 96 vCPU compute instance\n",
    "client = Client(c,timeout=400)"
   ]
  },
  {
   "cell_type": "code",
   "execution_count": 3,
   "metadata": {
    "scrolled": true
   },
   "outputs": [],
   "source": [
    "# Read the study data into a dictionary\n",
    "study_data_path = os.path.abspath('data/bee_counts/data_adults_eggs.csv')\n",
    "reader = csv.reader(open(study_data_path, 'r'))\n",
    "study_data = {}\n",
    "for row in reader:\n",
    "   k, v = row\n",
    "   study_data[k] = float(v)\n",
    "#study_data"
   ]
  },
  {
   "cell_type": "code",
   "execution_count": 4,
   "metadata": {},
   "outputs": [],
   "source": [
    "# Limits for the plots (accounts for the inverse log transform that pyabc will do with the results)\n",
    "limits = dict(ICQueenStrength_mean=(1, 5),\n",
    "              ICQueenStrength_sd=(0, 2),\n",
    "              ICForagerLifespan_mean=(4, 16),\n",
    "              ICForagerLifespan_sd=(0, 3),\n",
    "              AIAdultLD50=(0.0001, 0.1),\n",
    "              AIAdultSlope=(1, 9),\n",
    "              AILarvaLD50=(0.0001, 0.1),\n",
    "              AILarvaSlope=(1, 9))\n",
    "\n",
    "\n",
    "priors = dict(ICQueenStrength_mean=(1, 5),\n",
    "              ICQueenStrength_sd=(0, 2),\n",
    "              ICForagerLifespan_mean=(4, 16),\n",
    "              ICForagerLifespan_sd=(0, 3),\n",
    "              AIAdultLD50=(0.0001, 0.1), \n",
    "              AIAdultSlope=(1, 9),\n",
    "              AILarvaLD50=(0.0001, 0.1), #units are ug/bee. Equiv to .1 ng/bee to 100 ng/bee\n",
    "              AILarvaSlope=(1, 9))\n",
    "\n",
    "prior = Distribution(**{key: RV(\"uniform\", a, b - a)\n",
    "                        for key, (a,b) in priors.items()})"
   ]
  },
  {
   "cell_type": "code",
   "execution_count": 5,
   "metadata": {},
   "outputs": [],
   "source": [
    "# Set our distance function and sampler\n",
    "distance = pyabc.PNormDistance(p=1)\n",
    "\n",
    "sampler = DaskDistributedSampler(dask_client = client)\n",
    "\n",
    "transition = LocalTransition()"
   ]
  },
  {
   "cell_type": "code",
   "execution_count": 6,
   "metadata": {},
   "outputs": [],
   "source": [
    "# define the ABCSMC object\n",
    "abc = ABCSMC(simulate, prior, distance,\n",
    "             population_size=AdaptivePopulationSize(500, max_population_size = 500),\n",
    "             transitions = transition,\n",
    "             sampler=sampler)"
   ]
  },
  {
   "cell_type": "code",
   "execution_count": 7,
   "metadata": {},
   "outputs": [
    {
     "name": "stderr",
     "output_type": "stream",
     "text": [
      "INFO:History:Start <ABCSMC(id=1, start_time=2019-11-18 17:07:08.727177, end_time=None)>\n",
      "INFO:Epsilon:initial epsilon is 203673.68629545445\n"
     ]
    },
    {
     "data": {
      "text/plain": [
       "1"
      ]
     },
     "execution_count": 7,
     "metadata": {},
     "output_type": "execute_result"
    }
   ],
   "source": [
    "# Initialize a new ABC inference run\n",
    "database_dir = 'D:\\results_db/'  # path for AWS EBS\n",
    "os.mkdir(database_dir)\n",
    "db_path = (\"sqlite:///\" +\n",
    "           os.path.join(database_dir, \"run_11_18.db\"))\n",
    "abc.new(db_path, study_data)"
   ]
  },
  {
   "cell_type": "code",
   "execution_count": null,
   "metadata": {
    "scrolled": true
   },
   "outputs": [],
   "source": [
    "history = abc.run(max_nr_populations=30, minimum_epsilon=0)"
   ]
  },
  {
   "cell_type": "code",
   "execution_count": null,
   "metadata": {},
   "outputs": [],
   "source": [
    "pop_data = history.get_all_populations()\n",
    "pop_data"
   ]
  },
  {
   "cell_type": "code",
   "execution_count": null,
   "metadata": {
    "scrolled": true
   },
   "outputs": [],
   "source": [
    "#get acceptance rates for each generation\n",
    "print(\"Acceptance rates\")\n",
    "for gen, samples, particles in zip(pop_data['t'],pop_data['samples'], pop_data['particles']):\n",
    "    if(samples>0):\n",
    "        print(\"Gen {}: {:.1f}%\".format(gen+1,particles/samples*100))"
   ]
  },
  {
   "cell_type": "code",
   "execution_count": null,
   "metadata": {},
   "outputs": [],
   "source": [
    "history.total_nr_simulations"
   ]
  },
  {
   "cell_type": "markdown",
   "metadata": {},
   "source": [
    "### Visualize results"
   ]
  },
  {
   "cell_type": "code",
   "execution_count": null,
   "metadata": {},
   "outputs": [],
   "source": [
    "df, w = history.get_distribution(m=0, t=history.max_t)\n",
    "plot_kde_matrix(df, w, limits=limits);"
   ]
  },
  {
   "cell_type": "code",
   "execution_count": null,
   "metadata": {},
   "outputs": [],
   "source": [
    "variable = 'AIAdultLD50'\n",
    "fig, ax = plt.subplots()\n",
    "for t in range(0,history.max_t+1):\n",
    "    df, w = history.get_distribution(m=0, t=t)\n",
    "    pyabc.visualization.plot_kde_1d(df, w, xmin=0.0001, xmax=0.1,\n",
    "                                   x=variable, ax=ax,\n",
    "                                   label=\"PDF t={}\".format(t))\n",
    "x, pdf = kde_1d(df,w,variable, numx = 200)\n",
    "MAP = x[np.where(np.max(pdf)==pdf)]\n",
    "plt.axvline(x=MAP.item(),color='black')\n",
    "ax.legend()\n",
    "ax.annotate('Max: {:.2f} ng/bee'.format(MAP.item()), xy = (0.05,0.75))\n",
    "plt.show()"
   ]
  },
  {
   "cell_type": "code",
   "execution_count": null,
   "metadata": {},
   "outputs": [],
   "source": [
    "variable = 'ICForagerLifespan_mean'\n",
    "fig, ax = plt.subplots()\n",
    "for t in range(0,history.max_t + 1,1):\n",
    "    df, w = history.get_distribution(m=0, t=t)\n",
    "    pyabc.visualization.plot_kde_1d(df, w, xmin=4, xmax=16,\n",
    "                                   x=variable, ax=ax,\n",
    "                                   label=\"PDF t={}\".format(t))\n",
    "x, pdf = kde_1d(df,w,variable, numx = 200)\n",
    "MAP = x[np.where(np.max(pdf)==pdf)]\n",
    "ax.legend()\n",
    "plt.axvline(x=MAP.item(),color='black')\n",
    "#ax.annotate('Max: {:.2f} days'.format(MAP.item()), xy = (5.5,0.4))\n",
    "ax.legend()\n",
    "plt.show()"
   ]
  },
  {
   "cell_type": "markdown",
   "metadata": {},
   "source": [
    "### Visualize from a stored run"
   ]
  },
  {
   "cell_type": "code",
   "execution_count": 10,
   "metadata": {},
   "outputs": [],
   "source": [
    "#retrieve stored run - run ID 1\n",
    "#database_dir = 'results_db/'\n",
    "#db_path = (\"sqlite:///\" +\n",
    "#           os.path.join(database_dir, \"run_11_18.db\"))\n",
    "#history = History(db_path)\n",
    "#history.id = 1"
   ]
  },
  {
   "cell_type": "code",
   "execution_count": 12,
   "metadata": {},
   "outputs": [],
   "source": [
    "#df, w = history.get_distribution(m=0, t=history.max_t)"
   ]
  },
  {
   "cell_type": "code",
   "execution_count": null,
   "metadata": {},
   "outputs": [],
   "source": [
    "#plot_kde_matrix(df, w, limits=limits);"
   ]
  },
  {
   "cell_type": "code",
   "execution_count": null,
   "metadata": {
    "scrolled": true
   },
   "outputs": [],
   "source": [
    "#history.get_all_populations()"
   ]
  },
  {
   "cell_type": "markdown",
   "metadata": {},
   "source": [
    "### Continuing a stopped run"
   ]
  },
  {
   "cell_type": "code",
   "execution_count": null,
   "metadata": {},
   "outputs": [],
   "source": [
    "#retrieve stored run \n",
    "database_dir = 'results_db/'\n",
    "db_path = (\"sqlite:///\" +\n",
    "           os.path.join(database_dir, \"run_3_11_2.db\"))\n",
    "#db = History(db_path)\n",
    "#db.id = 3"
   ]
  },
  {
   "cell_type": "code",
   "execution_count": null,
   "metadata": {},
   "outputs": [],
   "source": [
    "# define the ABCSMC object\n",
    "#abc_cont = ABCSMC(simulate, prior, distance,\n",
    "#             population_size=AdaptivePopulationSize(100, max_population_size = 100),\n",
    "#             transitions = transition,\n",
    "#             sampler=sampler)"
   ]
  },
  {
   "cell_type": "code",
   "execution_count": null,
   "metadata": {},
   "outputs": [],
   "source": [
    "#abc_cont.load(db_path,1)"
   ]
  },
  {
   "cell_type": "code",
   "execution_count": null,
   "metadata": {},
   "outputs": [],
   "source": [
    "#abc_cont.run(minimum_epsilon=0, max_nr_populations=100)"
   ]
  }
 ],
 "metadata": {
  "kernelspec": {
   "display_name": "Python3 (pyabc)",
   "language": "python",
   "name": "pyabc"
  },
  "language_info": {
   "codemirror_mode": {
    "name": "ipython",
    "version": 3
   },
   "file_extension": ".py",
   "mimetype": "text/x-python",
   "name": "python",
   "nbconvert_exporter": "python",
   "pygments_lexer": "ipython3",
   "version": "3.6.6"
  }
 },
 "nbformat": 4,
 "nbformat_minor": 4
}
